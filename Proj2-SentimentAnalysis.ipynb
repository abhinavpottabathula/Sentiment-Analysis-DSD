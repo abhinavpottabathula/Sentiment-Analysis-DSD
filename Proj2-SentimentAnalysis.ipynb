{
 "cells": [
  {
   "cell_type": "code",
   "execution_count": 1,
   "metadata": {
    "collapsed": true
   },
   "outputs": [],
   "source": [
    "import numpy as np\n",
    "import pandas as pd\n",
    "import os\n",
    "import sklearn\n",
    "from sklearn.model_selection import train_test_split"
   ]
  },
  {
   "cell_type": "markdown",
   "metadata": {},
   "source": [
    "# Reading Data"
   ]
  },
  {
   "cell_type": "code",
   "execution_count": 2,
   "metadata": {
    "collapsed": true
   },
   "outputs": [],
   "source": [
    "def segmentWords(s): \n",
    "    return s.split()\n",
    "\n",
    "def readFile(fileName):\n",
    "    # Function for reading file\n",
    "    # input: filename as string\n",
    "    # output: contents of file as list containing single words\n",
    "    contents = []\n",
    "    f = open(fileName)\n",
    "    for line in f:\n",
    "        contents.append(line)\n",
    "    f.close()\n",
    "    result = segmentWords('\\n'.join(contents))\n",
    "    return result"
   ]
  },
  {
   "cell_type": "markdown",
   "metadata": {},
   "source": [
    "#### Create a Dataframe containing the counts of each word in a file"
   ]
  },
  {
   "cell_type": "code",
   "execution_count": 3,
   "metadata": {
    "collapsed": true
   },
   "outputs": [],
   "source": [
    "d = []\n",
    "\n",
    "for c in os.listdir(\"data_training\"):\n",
    "    directory = \"data_training/\" + c\n",
    "    for file in os.listdir(directory):\n",
    "        words = readFile(directory + \"/\" + file)\n",
    "        e = {x:words.count(x) for x in words}\n",
    "        e['__FileID__'] = str(file)\n",
    "        e['__CLASS__'] = str(c)\n",
    "        d.append(e)"
   ]
  },
  {
   "cell_type": "markdown",
   "metadata": {},
   "source": [
    "Create a dataframe from d - make sure to fill all the nan values with zeros.\n",
    "\n",
    "References:\n",
    "\n",
    "https://pandas.pydata.org/pandas-docs/stable/generated/pandas.DataFrame.html\n",
    "https://pandas.pydata.org/pandas-docs/stable/generated/pandas.DataFrame.fillna.html\n"
   ]
  },
  {
   "cell_type": "code",
   "execution_count": 4,
   "metadata": {
    "collapsed": true
   },
   "outputs": [],
   "source": [
    "df = pd.DataFrame(d)\n",
    "df = df.fillna(0)"
   ]
  },
  {
   "cell_type": "markdown",
   "metadata": {},
   "source": [
    "#### Split data into training and validation set "
   ]
  },
  {
   "cell_type": "markdown",
   "metadata": {
    "collapsed": true
   },
   "source": [
    "* Sample 80% of your dataframe to be the training data\n",
    "\n",
    "* Let the remaining 20% be the validation data (you can filter out the indicies of the original dataframe that weren't selected for the training data)\n",
    "\n",
    "References:\n",
    "\n",
    "https://pandas.pydata.org/pandas-docs/stable/generated/pandas.DataFrame.sample.html\n",
    "https://pandas.pydata.org/pandas-docs/stable/generated/pandas.DataFrame.drop.html"
   ]
  },
  {
   "cell_type": "code",
   "execution_count": 5,
   "metadata": {
    "collapsed": true
   },
   "outputs": [],
   "source": [
    "#from sklearn.model_selection import train_test_split\n",
    "#train, valid = train_test_split(df, test_size=0.2)\n",
    "\n",
    "train = df.sample(frac=0.8)\n",
    "valid = df.drop(train.index)"
   ]
  },
  {
   "cell_type": "markdown",
   "metadata": {},
   "source": [
    "* Split the dataframe for both training and validation data into x and y dataframes - where y contains the labels and x contains the words\n",
    "\n",
    "References:\n",
    "\n",
    "https://pandas.pydata.org/pandas-docs/stable/generated/pandas.DataFrame.drop.html"
   ]
  },
  {
   "cell_type": "code",
   "execution_count": 94,
   "metadata": {
    "scrolled": true
   },
   "outputs": [],
   "source": [
    "y_train = train['__CLASS__']\n",
    "x_train = train.drop('__CLASS__', axis=1)\n",
    "x_train = x_train.drop('__FileID__', axis=1)\n",
    "\n",
    "y_valid = valid['__CLASS__']\n",
    "x_valid = valid.drop('__CLASS__', axis=1)\n",
    "x_valid = x_valid.drop('__FileID__', axis=1)"
   ]
  },
  {
   "cell_type": "markdown",
   "metadata": {},
   "source": [
    "# Logistic Regression"
   ]
  },
  {
   "cell_type": "markdown",
   "metadata": {},
   "source": [
    "#### Basic Logistic Regression\n",
    "* Use sklearn's linear_model.LogisticRegression() to create your model.\n",
    "* Fit the data and labels with your model.\n",
    "* Score your model with the same data and labels.\n",
    "\n",
    "References:\n",
    "\n",
    "http://scikit-learn.org/stable/modules/generated/sklearn.linear_model.LogisticRegression.html"
   ]
  },
  {
   "cell_type": "code",
   "execution_count": 44,
   "metadata": {},
   "outputs": [
    {
     "data": {
      "text/plain": [
       "1.0"
      ]
     },
     "execution_count": 44,
     "metadata": {},
     "output_type": "execute_result"
    }
   ],
   "source": [
    "from sklearn.linear_model import LogisticRegression\n",
    "from sklearn import metrics\n",
    "from sklearn.cross_validation import cross_val_score\n",
    "\n",
    "#fitting model to training set\n",
    "#clearly overfitting since accuracy is 100%\n",
    "model = LogisticRegression()\n",
    "model = model.fit(x_train, y_train)\n",
    "model.score(x_train, y_train)"
   ]
  },
  {
   "cell_type": "code",
   "execution_count": 45,
   "metadata": {},
   "outputs": [
    {
     "data": {
      "text/plain": [
       "0.84567901234567899"
      ]
     },
     "execution_count": 45,
     "metadata": {},
     "output_type": "execute_result"
    }
   ],
   "source": [
    "#testing on validation set\n",
    "model.score(x_valid, y_valid)"
   ]
  },
  {
   "cell_type": "markdown",
   "metadata": {},
   "source": [
    "#### Changing Parameters"
   ]
  },
  {
   "cell_type": "code",
   "execution_count": 82,
   "metadata": {},
   "outputs": [
    {
     "data": {
      "text/plain": [
       "0.98688271604938271"
      ]
     },
     "execution_count": 82,
     "metadata": {},
     "output_type": "execute_result"
    }
   ],
   "source": [
    "model = LogisticRegression(C=.008)\n",
    "model = model.fit(x_train, y_train)\n",
    "model.score(x_train, y_train)"
   ]
  },
  {
   "cell_type": "code",
   "execution_count": 47,
   "metadata": {},
   "outputs": [
    {
     "data": {
      "text/plain": [
       "0.83950617283950613"
      ]
     },
     "execution_count": 47,
     "metadata": {},
     "output_type": "execute_result"
    }
   ],
   "source": [
    "model.score(x_valid, y_valid)"
   ]
  },
  {
   "cell_type": "markdown",
   "metadata": {},
   "source": [
    "#### Feature Selection\n",
    "* In the backward stepsize selection method, you can remove coefficients and the corresponding x columns, where the coefficient is more than a particular amount away from the mean - you can choose how far from the mean is reasonable.\n",
    "\n",
    "References:\n",
    "\n",
    "https://pandas.pydata.org/pandas-docs/stable/generated/pandas.DataFrame.html#\n",
    "https://pandas.pydata.org/pandas-docs/stable/generated/pandas.DataFrame.sample.html\n",
    "https://pandas.pydata.org/pandas-docs/stable/generated/pandas.DataFrame.drop.html\n",
    "http://scikit-learn.org/stable/modules/generated/sklearn.linear_model.LogisticRegression.html\n",
    "https://docs.scipy.org/doc/numpy-1.13.0/reference/generated/numpy.where.html\n",
    "https://docs.scipy.org/doc/numpy-1.13.0/reference/generated/numpy.std.html\n",
    "https://docs.scipy.org/doc/numpy-1.13.0/reference/generated/numpy.mean.html"
   ]
  },
  {
   "cell_type": "code",
   "execution_count": 83,
   "metadata": {
    "collapsed": true
   },
   "outputs": [],
   "source": [
    "mean = model.coef_[0].mean()\n",
    "std = model.coef_[0].std()\n",
    "arr = model.coef_[0].copy()"
   ]
  },
  {
   "cell_type": "code",
   "execution_count": 78,
   "metadata": {},
   "outputs": [
    {
     "name": "stdout",
     "output_type": "stream",
     "text": [
      "0.956790123457\n",
      "0.83024691358\n"
     ]
    }
   ],
   "source": [
    "#using backward stepsize selection\n",
    "col = []\n",
    "for i in range(len(model.coef_[0])):\n",
    "    if model.coef_[0][i] < mean - std/3 or mean + std/3 < model.coef_[0][i]:\n",
    "        col.append(i)\n",
    "        \n",
    "new_x_train = x_train.copy()\n",
    "new_x_valid = x_valid.copy()\n",
    "\n",
    "drop = [x_train.columns[i] for i in col]\n",
    "new_x_train.drop(drop, axis=1, inplace=True)\n",
    "new_x_valid.drop(drop, axis=1, inplace=True)\n",
    "\n",
    "model = LogisticRegression(C=.01, tol=2)\n",
    "model = model.fit(new_x_train, y_train)\n",
    "\n",
    "#reduces overfitting\n",
    "print(model.score(new_x_train, y_train))\n",
    "print(model.score(new_x_valid, y_valid))"
   ]
  },
  {
   "cell_type": "markdown",
   "metadata": {},
   "source": [
    "How did you select which features to remove? Why did that reduce overfitting?"
   ]
  },
  {
   "cell_type": "markdown",
   "metadata": {
    "collapsed": true
   },
   "source": [
    "I selected the features to remove by looking at the coefficients of the model, or weights, and removing the columns of our dataframe which corresponded to weights that were more than 1/3 of the standard deviation away from the mean of the weights of the model. This reduced overfitting because it removed data which was far away from the mean, meaning that the model could no longer fit to certain outliers in the data anymore. "
   ]
  },
  {
   "cell_type": "code",
   "execution_count": 84,
   "metadata": {},
   "outputs": [
    {
     "name": "stdout",
     "output_type": "stream",
     "text": [
      "0.503086419753\n",
      "0.487654320988\n"
     ]
    }
   ],
   "source": [
    "#other attempts at reducing overfitting\n",
    "\n",
    "#setting weights to 0 if determined to be far enough from the mean\n",
    "model = LogisticRegression(C=.01, tol=2)\n",
    "model = model.fit(x_train, y_train)\n",
    "\n",
    "for i in range(model.coef_[0].shape[0]):\n",
    "    diff = abs(model.coef_[0][i]-mean)\n",
    "\n",
    "    if diff > std/10:\n",
    "        model.coef_[0][i] = 0\n",
    "\n",
    "print(model.score(x_train, y_train))\n",
    "print(model.score(x_valid, y_valid))"
   ]
  },
  {
   "cell_type": "code",
   "execution_count": 86,
   "metadata": {},
   "outputs": [
    {
     "name": "stdout",
     "output_type": "stream",
     "text": [
      "1.0\n",
      "0.577160493827\n"
     ]
    }
   ],
   "source": [
    "#adjusting hyperparameters\n",
    "model = LogisticRegression(penalty='l1', C=.01, tol=2)\n",
    "model = model.fit(x_train, y_train)\n",
    "\n",
    "print(model.score(x_train, y_train))\n",
    "print(model.score(x_valid, y_valid))"
   ]
  },
  {
   "cell_type": "code",
   "execution_count": 87,
   "metadata": {},
   "outputs": [
    {
     "name": "stdout",
     "output_type": "stream",
     "text": [
      "1.0\n",
      "0.66975308642\n"
     ]
    }
   ],
   "source": [
    "#using RFE\n",
    "from sklearn.feature_selection import RFE\n",
    "rfe = RFE(model, 10000, 1000)\n",
    "rfe = rfe.fit(x_train, y_train)\n",
    "\n",
    "print(rfe.score(x_train, y_train))\n",
    "print(rfe.score(x_valid, y_valid))"
   ]
  },
  {
   "cell_type": "code",
   "execution_count": 88,
   "metadata": {},
   "outputs": [
    {
     "name": "stdout",
     "output_type": "stream",
     "text": [
      "1.0\n",
      "0.648148148148\n"
     ]
    }
   ],
   "source": [
    "#using RFECV\n",
    "from sklearn.svm import SVC\n",
    "from sklearn.model_selection import StratifiedKFold\n",
    "from sklearn.feature_selection import RFECV\n",
    "\n",
    "rfecv = RFECV(estimator=model, step=1000, cv=StratifiedKFold(2),\n",
    "              scoring='accuracy')\n",
    "rfecv.fit(x_train, y_train)\n",
    "\n",
    "print(rfecv.score(x_train, y_train))\n",
    "print(rfecv.score(x_valid, y_valid))"
   ]
  },
  {
   "cell_type": "markdown",
   "metadata": {},
   "source": [
    "# Single Decision Tree"
   ]
  },
  {
   "cell_type": "markdown",
   "metadata": {},
   "source": [
    "#### Basic Decision Tree\n",
    "\n",
    "* Initialize your model as a decision tree with sklearn.\n",
    "* Fit the data and labels to the model.\n",
    "\n",
    "References:\n",
    "\n",
    "http://scikit-learn.org/stable/modules/generated/sklearn.tree.DecisionTreeClassifier.html\n"
   ]
  },
  {
   "cell_type": "code",
   "execution_count": 8,
   "metadata": {
    "collapsed": true
   },
   "outputs": [],
   "source": [
    "from sklearn import tree\n",
    "clf = tree.DecisionTreeClassifier()\n",
    "clf = clf.fit(x_train, y_train)"
   ]
  },
  {
   "cell_type": "code",
   "execution_count": 9,
   "metadata": {
    "collapsed": true
   },
   "outputs": [],
   "source": [
    "def score_sets(clf, x_train, y_train, x_valid, y_valid):\n",
    "    print(\"Training Score is: \" + str(clf.score(x_train, y_train)))\n",
    "    print(\"Validation Score is: \" + str(clf.score(x_valid, y_valid)))\n",
    "    return (clf.score(x_train, y_train) , clf.score(x_valid, y_valid))"
   ]
  },
  {
   "cell_type": "code",
   "execution_count": 10,
   "metadata": {},
   "outputs": [
    {
     "name": "stdout",
     "output_type": "stream",
     "text": [
      "Training Score is: 1.0\n",
      "Validation Score is: 0.651234567901\n"
     ]
    },
    {
     "data": {
      "text/plain": [
       "(1.0, 0.65123456790123457)"
      ]
     },
     "execution_count": 10,
     "metadata": {},
     "output_type": "execute_result"
    }
   ],
   "source": [
    "score_sets(clf, x_train, y_train, x_valid, y_valid)"
   ]
  },
  {
   "cell_type": "markdown",
   "metadata": {},
   "source": [
    "Yes I am definitely overfitting"
   ]
  },
  {
   "cell_type": "markdown",
   "metadata": {},
   "source": [
    "#### Changing Parameters\n",
    "* To test out which value is optimal for a particular parameter, you can either loop through various values or look into sklearn.model_selection.GridSearchCV\n",
    "\n",
    "References:\n",
    "\n",
    "\n",
    "http://scikit-learn.org/stable/modules/generated/sklearn.model_selection.GridSearchCV.html\n",
    "http://scikit-learn.org/stable/modules/generated/sklearn.tree.DecisionTreeClassifier.html"
   ]
  },
  {
   "cell_type": "code",
   "execution_count": 11,
   "metadata": {},
   "outputs": [
    {
     "name": "stdout",
     "output_type": "stream",
     "text": [
      "Training Score is: 1.0\n",
      "Validation Score is: 0.537037037037\n"
     ]
    }
   ],
   "source": [
    "clf_log = tree.DecisionTreeClassifier(max_features = \"log2\")\n",
    "clf_log = clf_log.fit(x_train, y_train)\n",
    "log_dttr, log_dtv = score_sets(clf_log, x_train, y_train, x_valid, y_valid)"
   ]
  },
  {
   "cell_type": "code",
   "execution_count": 12,
   "metadata": {},
   "outputs": [
    {
     "name": "stdout",
     "output_type": "stream",
     "text": [
      "Training Score is: 1.0\n",
      "Validation Score is: 0.561728395062\n"
     ]
    }
   ],
   "source": [
    "clf_sqrt = tree.DecisionTreeClassifier(max_features = \"sqrt\")\n",
    "clf_sqrt = clf_sqrt.fit(x_train, y_train)\n",
    "sqrt_dttr, sqrt_dtv = score_sets(clf_sqrt, x_train, y_train, x_valid, y_valid)"
   ]
  },
  {
   "cell_type": "code",
   "execution_count": 13,
   "metadata": {},
   "outputs": [
    {
     "name": "stdout",
     "output_type": "stream",
     "text": [
      "Training Score is: 1.0\n",
      "Validation Score is: 0.543209876543\n"
     ]
    }
   ],
   "source": [
    "clf_auto = tree.DecisionTreeClassifier(max_features = \"auto\")\n",
    "clf_auto = clf_auto.fit(x_train, y_train)\n",
    "auto_dttr, auto_dtv = score_sets(clf_auto, x_train, y_train, x_valid, y_valid)"
   ]
  },
  {
   "cell_type": "code",
   "execution_count": 19,
   "metadata": {
    "collapsed": true
   },
   "outputs": [],
   "source": [
    "from operator import itemgetter\n",
    "def report(grid_scores):\n",
    "    top_scores = sorted(grid_scores, key=itemgetter(1), reverse=True)[:3]\n",
    "    for i, score in enumerate(top_scores):\n",
    "        print(\"Model with rank: {0}\".format(i + 1))\n",
    "        print(\"Mean validation score: {0}\".format(score.mean_validation_score))\n",
    "        print(\"Parameters: {0}\".format(score.parameters))\n",
    "        print(\"\")\n",
    "    return (top_scores[0].parameters, top_scores[1].parameters, top_scores[2].parameters)"
   ]
  },
  {
   "cell_type": "code",
   "execution_count": 20,
   "metadata": {
    "collapsed": true
   },
   "outputs": [],
   "source": [
    "from sklearn.grid_search import GridSearchCV\n",
    "def run_gridsearch(X, y, clf, param_grid, cv=3):\n",
    "    grid_search = GridSearchCV(clf, param_grid=param_grid, cv=cv)\n",
    "    grid_search.fit(X, y)\n",
    "    top_params = report(grid_search.grid_scores_)\n",
    "    return  top_params"
   ]
  },
  {
   "cell_type": "code",
   "execution_count": 21,
   "metadata": {},
   "outputs": [
    {
     "name": "stdout",
     "output_type": "stream",
     "text": [
      "Model with rank: 1\n",
      "Mean validation score: 0.6134259259259259\n",
      "Parameters: {'criterion': 'entropy', 'max_depth': None, 'max_features': 'auto', 'min_samples_leaf': 1, 'min_samples_split': 10}\n",
      "\n",
      "Model with rank: 2\n",
      "Mean validation score: 0.6057098765432098\n",
      "Parameters: {'criterion': 'entropy', 'max_depth': 10, 'max_features': 'auto', 'min_samples_leaf': 10, 'min_samples_split': 10}\n",
      "\n",
      "Model with rank: 3\n",
      "Mean validation score: 0.6018518518518519\n",
      "Parameters: {'criterion': 'gini', 'max_depth': 10, 'max_features': 'auto', 'min_samples_leaf': 1, 'min_samples_split': 20}\n",
      "\n"
     ]
    }
   ],
   "source": [
    "param_grid = {\"criterion\": [\"gini\", \"entropy\"],\n",
    "              \"max_features\": [\"auto\", \"log2\"],\n",
    "              \"min_samples_split\": [2, 10, 20],\n",
    "              \"max_depth\": [None, 2, 5, 10],\n",
    "              \"min_samples_leaf\": [1, 5, 10],}\n",
    "clf = tree.DecisionTreeClassifier()\n",
    "best_parameters, sec_best_parameters, third_best_parameters = run_gridsearch(x_train, y_train, clf, param_grid)"
   ]
  },
  {
   "cell_type": "code",
   "execution_count": 24,
   "metadata": {},
   "outputs": [
    {
     "data": {
      "text/plain": [
       "{'criterion': 'entropy',\n",
       " 'max_depth': None,\n",
       " 'max_features': 'auto',\n",
       " 'min_samples_leaf': 1,\n",
       " 'min_samples_split': 10}"
      ]
     },
     "execution_count": 24,
     "metadata": {},
     "output_type": "execute_result"
    }
   ],
   "source": [
    "best_parameters"
   ]
  },
  {
   "cell_type": "code",
   "execution_count": 25,
   "metadata": {},
   "outputs": [
    {
     "data": {
      "text/plain": [
       "{'criterion': 'entropy',\n",
       " 'max_depth': 10,\n",
       " 'max_features': 'auto',\n",
       " 'min_samples_leaf': 10,\n",
       " 'min_samples_split': 10}"
      ]
     },
     "execution_count": 25,
     "metadata": {},
     "output_type": "execute_result"
    }
   ],
   "source": [
    "sec_best_parameters"
   ]
  },
  {
   "cell_type": "code",
   "execution_count": 27,
   "metadata": {},
   "outputs": [
    {
     "data": {
      "text/plain": [
       "{'criterion': 'gini',\n",
       " 'max_depth': 10,\n",
       " 'max_features': 'auto',\n",
       " 'min_samples_leaf': 1,\n",
       " 'min_samples_split': 20}"
      ]
     },
     "execution_count": 27,
     "metadata": {},
     "output_type": "execute_result"
    }
   ],
   "source": [
    "third_best_parameters"
   ]
  },
  {
   "cell_type": "code",
   "execution_count": 29,
   "metadata": {},
   "outputs": [
    {
     "name": "stdout",
     "output_type": "stream",
     "text": [
      "Training Score is: 0.941358024691\n",
      "Validation Score is: 0.58950617284\n"
     ]
    }
   ],
   "source": [
    "#first best parameters\n",
    "clf_best = tree.DecisionTreeClassifier(criterion= 'entropy',\n",
    " max_depth= None,\n",
    " max_features= 'auto',\n",
    " min_samples_leaf= 1,\n",
    " min_samples_split= 10)\n",
    "clf_best = clf_best.fit(x_train, y_train)\n",
    "best_dttr, best_dtv = score_sets(clf_best, x_train, y_train, x_valid, y_valid)"
   ]
  },
  {
   "cell_type": "code",
   "execution_count": 32,
   "metadata": {},
   "outputs": [
    {
     "name": "stdout",
     "output_type": "stream",
     "text": [
      "Training Score is: 0.611882716049\n",
      "Validation Score is: 0.515432098765\n"
     ]
    }
   ],
   "source": [
    "#second best parameters\n",
    "clf_sec_best = tree.DecisionTreeClassifier(criterion= 'entropy',\n",
    " max_depth= 10,\n",
    " max_features= 'auto',\n",
    " min_samples_leaf= 10,\n",
    " min_samples_split= 10)\n",
    "clf_sec_best = clf_sec_best.fit(x_train, y_train)\n",
    "sec_best_dttr, sec_best_dtv = score_sets(clf_sec_best, x_train, y_train, x_valid, y_valid)"
   ]
  },
  {
   "cell_type": "code",
   "execution_count": 33,
   "metadata": {},
   "outputs": [
    {
     "name": "stdout",
     "output_type": "stream",
     "text": [
      "Training Score is: 0.627314814815\n",
      "Validation Score is: 0.558641975309\n"
     ]
    }
   ],
   "source": [
    "clf_thr_best = tree.DecisionTreeClassifier(criterion= 'entropy',\n",
    " max_depth= 10,\n",
    " max_features= 'auto',\n",
    " min_samples_leaf= 1,\n",
    " min_samples_split= 20)\n",
    "clf_thr_best = clf_thr_best.fit(x_train, y_train)\n",
    "thr_best_dttr, thr_best_dtv = score_sets(clf_thr_best, x_train, y_train, x_valid, y_valid)"
   ]
  },
  {
   "cell_type": "markdown",
   "metadata": {},
   "source": [
    "What corrects the overfitting in these examples is the explicit definition of max_depth and min_smaples_leaf. Max_depth essentially limits how deep the decision tree can be and thus limit the complexity of the decision boundaries on the training data so as not to overfit. Min_smaples_leaf specifically changes the model's sensitivity to noise in the training data where a smaller number of sample leaves makes the model more prone to capturing noise."
   ]
  },
  {
   "cell_type": "markdown",
   "metadata": {},
   "source": [
    "How did you choose which parameters to change and what value to give to them? Feel free to show a plot."
   ]
  },
  {
   "cell_type": "markdown",
   "metadata": {},
   "source": [
    "Although I chose the parameters the way I did because of grid search telling me that those were the best combinations, I honestly don't believe those were the ideal combinations simply because I realized that a simple decision tree with default parameters usually preforms just as well on the validation set as a \"optimized\" decision tree with grid search. This is evident by the graph below this."
   ]
  },
  {
   "cell_type": "code",
   "execution_count": 34,
   "metadata": {},
   "outputs": [
    {
     "data": {
      "image/png": "[encoded data removed]",
      "text/plain": [
       "<matplotlib.figure.Figure at 0x13a9a8358>"
      ]
     },
     "metadata": {},
     "output_type": "display_data"
    }
   ],
   "source": [
    "import matplotlib.pyplot as plt\n",
    "x = np.arange(6)\n",
    "validation_scores = [log_dtv, sqrt_dtv, auto_dtv, best_dtv, sec_best_dtv, thr_best_dtv]\n",
    "fig, ax = plt.subplots()\n",
    "ax.set_ylabel('Validation Score')\n",
    "ax.set_xlabel('Different Parameters')\n",
    "ax.set_title('Validation Score vs Parameters')\n",
    "plt.bar(x, validation_scores)\n",
    "plt.xticks(x, ('MF=log2', 'MF=sqrt', 'MF=auto', 'Optimized 1', \"Optimized 2\", \"Optimized 3\"))\n",
    "plt.show()"
   ]
  },
  {
   "cell_type": "markdown",
   "metadata": {},
   "source": [
    "Why is a single decision tree so prone to overfitting?"
   ]
  },
  {
   "cell_type": "markdown",
   "metadata": {
    "collapsed": true
   },
   "source": [
    "As we increase the depth of the decision tree, we increase the complexity of the decision boundaries and what this ends up doing is it draws decision boundaries that are overfitted to the training data. The following graph below all the trials that change max_depth depict this phenomenon. It is worth mentioning that the default max_depth = None."
   ]
  },
  {
   "cell_type": "code",
   "execution_count": 35,
   "metadata": {},
   "outputs": [
    {
     "name": "stdout",
     "output_type": "stream",
     "text": [
      "Training Score is: 0.618055555556\n",
      "Validation Score is: 0.645061728395\n"
     ]
    }
   ],
   "source": [
    "from sklearn import tree\n",
    "clf = tree.DecisionTreeClassifier(max_depth = 1)\n",
    "clf = clf.fit(x_train, y_train)\n",
    "md1_dttr, md1_dtv = score_sets(clf, x_train, y_train, x_valid, y_valid)"
   ]
  },
  {
   "cell_type": "code",
   "execution_count": 36,
   "metadata": {},
   "outputs": [
    {
     "name": "stdout",
     "output_type": "stream",
     "text": [
      "Training Score is: 0.641975308642\n",
      "Validation Score is: 0.694444444444\n"
     ]
    }
   ],
   "source": [
    "from sklearn import tree\n",
    "clf = tree.DecisionTreeClassifier(max_depth = 2)\n",
    "clf = clf.fit(x_train, y_train)\n",
    "md2_dttr, md2_dtv = score_sets(clf, x_train, y_train, x_valid, y_valid)"
   ]
  },
  {
   "cell_type": "code",
   "execution_count": 37,
   "metadata": {},
   "outputs": [
    {
     "name": "stdout",
     "output_type": "stream",
     "text": [
      "Training Score is: 0.744598765432\n",
      "Validation Score is: 0.682098765432\n"
     ]
    }
   ],
   "source": [
    "from sklearn import tree\n",
    "clf = tree.DecisionTreeClassifier(max_depth = 5)\n",
    "clf = clf.fit(x_train, y_train)\n",
    "md5_dttr, md5_dtv = score_sets(clf, x_train, y_train, x_valid, y_valid)"
   ]
  },
  {
   "cell_type": "code",
   "execution_count": 38,
   "metadata": {},
   "outputs": [
    {
     "name": "stdout",
     "output_type": "stream",
     "text": [
      "Training Score is: 0.986882716049\n",
      "Validation Score is: 0.66049382716\n"
     ]
    }
   ],
   "source": [
    "from sklearn import tree\n",
    "clf = tree.DecisionTreeClassifier(max_depth = 20)\n",
    "clf = clf.fit(x_train, y_train)\n",
    "md20_dttr, md20_dtv = score_sets(clf, x_train, y_train, x_valid, y_valid)"
   ]
  },
  {
   "cell_type": "code",
   "execution_count": 39,
   "metadata": {},
   "outputs": [
    {
     "name": "stdout",
     "output_type": "stream",
     "text": [
      "Training Score is: 1.0\n",
      "Validation Score is: 0.654320987654\n"
     ]
    }
   ],
   "source": [
    "from sklearn import tree\n",
    "clf = tree.DecisionTreeClassifier(max_depth = 100)\n",
    "clf = clf.fit(x_train, y_train)\n",
    "md100_dttr, md100_dtv = score_sets(clf, x_train, y_train, x_valid, y_valid)"
   ]
  },
  {
   "cell_type": "code",
   "execution_count": 40,
   "metadata": {},
   "outputs": [
    {
     "data": {
      "image/png": "[encoded data removed]",
      "text/plain": [
       "<matplotlib.figure.Figure at 0x13b30b198>"
      ]
     },
     "metadata": {},
     "output_type": "display_data"
    }
   ],
   "source": [
    "import matplotlib.pyplot as plt\n",
    "x = np.arange(5)\n",
    "validation_scores = [md1_dttr, md2_dttr, md5_dttr, md20_dttr, md100_dttr]\n",
    "fig, ax = plt.subplots()\n",
    "ax.set_ylabel('Training Score')\n",
    "ax.set_xlabel('Max Depth')\n",
    "ax.set_title('Max Depth vs Training Score')\n",
    "plt.bar(x, validation_scores)\n",
    "plt.xticks(x, ('MD=1', 'MD=2', 'MD=5', 'MD=20', \"MD=100\"))\n",
    "plt.show()"
   ]
  },
  {
   "cell_type": "code",
   "execution_count": 41,
   "metadata": {},
   "outputs": [
    {
     "data": {
      "image/png": "[encoded data removed]",
      "text/plain": [
       "<matplotlib.figure.Figure at 0x13b43c7b8>"
      ]
     },
     "metadata": {},
     "output_type": "display_data"
    }
   ],
   "source": [
    "import matplotlib.pyplot as plt\n",
    "x = np.arange(5)\n",
    "validation_scores = [md1_dtv, md2_dtv, md5_dtv, md20_dtv, md100_dtv]\n",
    "fig, ax = plt.subplots()\n",
    "ax.set_ylabel('Validation Score Score')\n",
    "ax.set_xlabel('Max Depth')\n",
    "ax.set_title('Max Depth vs Validation Score')\n",
    "plt.bar(x, validation_scores)\n",
    "plt.xticks(x, ('MD=1', 'MD=2', 'MD=5', 'MD=20', \"MD=100\"))\n",
    "plt.show()"
   ]
  },
  {
   "cell_type": "markdown",
   "metadata": {},
   "source": [
    "# Random Forest Classifier"
   ]
  },
  {
   "cell_type": "markdown",
   "metadata": {},
   "source": [
    "#### Basic Random Forest\n",
    "\n",
    "* Use sklearn's ensemble.RandomForestClassifier() to create your model.\n",
    "* Fit the data and labels with your model.\n",
    "* Score your model with the same data and labels.\n",
    "\n",
    "References:\n",
    "\n",
    "http://scikit-learn.org/stable/modules/generated/sklearn.ensemble.RandomForestClassifier.html\n"
   ]
  },
  {
   "cell_type": "code",
   "execution_count": 42,
   "metadata": {},
   "outputs": [
    {
     "name": "stdout",
     "output_type": "stream",
     "text": [
      "Training Score is: 0.993055555556\n",
      "Validation Score is: 0.675925925926\n"
     ]
    },
    {
     "data": {
      "text/plain": [
       "(0.99305555555555558, 0.67592592592592593)"
      ]
     },
     "execution_count": 42,
     "metadata": {},
     "output_type": "execute_result"
    }
   ],
   "source": [
    "from sklearn.ensemble import RandomForestClassifier\n",
    "rfclf = RandomForestClassifier()\n",
    "rfclf = rfclf.fit(x_train, y_train)\n",
    "score_sets(rfclf, x_train, y_train, x_valid, y_valid)"
   ]
  },
  {
   "cell_type": "markdown",
   "metadata": {},
   "source": [
    "#### Changing Parameters"
   ]
  },
  {
   "cell_type": "code",
   "execution_count": 43,
   "metadata": {},
   "outputs": [
    {
     "name": "stdout",
     "output_type": "stream",
     "text": [
      "Model with rank: 1\n",
      "Mean validation score: 0.7986111111111112\n",
      "Parameters: {'max_depth': 100, 'max_features': 'auto', 'n_estimators': 1000}\n",
      "\n",
      "Model with rank: 2\n",
      "Mean validation score: 0.7939814814814815\n",
      "Parameters: {'max_depth': 20, 'max_features': 'auto', 'n_estimators': 1000}\n",
      "\n",
      "Model with rank: 3\n",
      "Mean validation score: 0.7924382716049383\n",
      "Parameters: {'max_depth': None, 'max_features': 'auto', 'n_estimators': 1000}\n",
      "\n"
     ]
    }
   ],
   "source": [
    "param_grid = {\"n_estimators\": [100, 500, 1000],\n",
    "              \"max_features\": [\"auto\", \"log2\"],  \n",
    "              \"max_depth\": [None, 5, 20, 100],}\n",
    "rfclf = RandomForestClassifier()\n",
    "best_parameters = run_gridsearch(x_train, y_train, rfclf, param_grid)"
   ]
  },
  {
   "cell_type": "code",
   "execution_count": 93,
   "metadata": {},
   "outputs": [
    {
     "name": "stdout",
     "output_type": "stream",
     "text": [
      "Training Score is: 1.0\n",
      "Validation Score is: 0.820987654321\n"
     ]
    },
    {
     "data": {
      "text/plain": [
       "(1.0, 0.82098765432098764)"
      ]
     },
     "execution_count": 93,
     "metadata": {},
     "output_type": "execute_result"
    }
   ],
   "source": [
    "rfclf_best = RandomForestClassifier(max_depth=100, max_features='auto', n_estimators=1000)\n",
    "rfclf_best = rfclf_best.fit(x_train, y_train)\n",
    "score_sets(rfclf_best, x_train, y_train, x_valid, y_valid)"
   ]
  },
  {
   "cell_type": "markdown",
   "metadata": {},
   "source": [
    "What parameters did you choose to change and why?"
   ]
  },
  {
   "cell_type": "markdown",
   "metadata": {
    "collapsed": true
   },
   "source": [
    "I chose to run grid search on three parameters, one specific to random forest, and the other two generalized to the decision trees in random forests. One of my parameters was necessarily the number of decision trees I include in my random forest, where most often a greater number of decision trees will result in a more accurate classifier against the validation set. The other parameters I chose to check were max_depth because it had a very relevant impact on not overfitting the training data, and max_features which is data specific but generally increases the options to be considered at every node. However, a lot of overfitting is taken care of by the nature of a random forest as explained below. The parameters I did not include in the grid search were ommited because they were computationally expensive and they were also pretty trivial. "
   ]
  },
  {
   "cell_type": "markdown",
   "metadata": {},
   "source": [
    "How does a random forest classifier prevent overfitting better than a single decision tree?"
   ]
  },
  {
   "cell_type": "markdown",
   "metadata": {
    "collapsed": true
   },
   "source": [
    "A random forest essentially takes a random fraction of the data and selects only a random fraction of features and builds many decision trees on these different random subsets. What this ends up doing is creating many trees that are of a shallower depth (low overfit) and averaging the results of these trees. It isn't as prone to overfitting as analyzing all features in one decision tree and creating a really complex decision boundary because of its large depth."
   ]
  }
 ],
 "metadata": {
  "kernelspec": {
   "display_name": "Python 3",
   "language": "python",
   "name": "python3"
  },
  "language_info": {
   "codemirror_mode": {
    "name": "ipython",
    "version": 3
   },
   "file_extension": ".py",
   "mimetype": "text/x-python",
   "name": "python",
   "nbconvert_exporter": "python",
   "pygments_lexer": "ipython3",
   "version": "3.6.1"
  }
 },
 "nbformat": 4,
 "nbformat_minor": 1
}
